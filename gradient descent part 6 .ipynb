{
 "cells": [
  {
   "cell_type": "code",
   "execution_count": 1,
   "metadata": {},
   "outputs": [],
   "source": [
    "def inputLayer(df):\n",
    "    input_Layer=np.array(df)\n",
    "    In_Std_y = input_Layer[:, input_Layer.shape[1] - 1:]\n",
    "    In_Std_x = input_Layer[:, :input_Layer.shape[1] - 1]\n",
    "    mean= np.mean(In_Std_x, axis=0)\n",
    "    std = np.std(In_Std_x, axis=0, ddof=1)\n",
    "    In_Std_x = (In_Std_x-mean)/std\n",
    "    In_Std_x = np.hstack([np.ones([In_Std_x.shape[0],1]), In_Std_x])\n",
    "    return In_Std_x,In_Std_y\n"
   ]
  },
  {
   "cell_type": "code",
   "execution_count": 2,
   "metadata": {},
   "outputs": [],
   "source": [
    "def fully_connected_layer(train_x,train_y,test_x,test_y,theta):\n",
    "    pr=1\n",
    "    learningRate=0.01\n",
    "    xt=train_x.transpose()\n",
    "    N=len(train_x)\n",
    "    rte=[]\n",
    "    rtr=[]\n",
    "    RSMEtrain0=0 \n",
    "    itr=0\n",
    "    while(itr<5000 and pr>pow(10,-20)):\n",
    "        mid=np.dot(train_x,theta)-train_y\n",
    "        gradient=(np.dot(xt,mid))\n",
    "        batchGradient=(learningRate*gradient)/N\n",
    "        theta=theta-batchGradient\n",
    "        Charge_Test=np.dot(test_x,theta)\n",
    "        Charge_Train=np.dot(train_x,theta)\n",
    "        RSMEtest=np.sqrt(np.mean((test_y-Charge_Test)**2)) \n",
    "        rte.append(RSMEtest)\n",
    "        RSMEtrain1=np.sqrt(np.mean((train_y-Charge_Train)**2)) \n",
    "        rtr.append(RSMEtrain1)\n",
    "        changeInTrainingError=np.abs(RSMEtrain1-RSMEtrain0)\n",
    "        pr =(changeInTrainingError/RSMEtrain0)*100\n",
    "        RSMEtrain0=RSMEtrain1\n",
    "        Charge_Test1=np.dot(test_x,theta)\n",
    "        itr+=1\n",
    "    RSMEtest1=np.sqrt(np.mean((test_y-Charge_Test1)**2)) \n",
    "    return RSMEtest1,Charge_Test1\n",
    "    "
   ]
  },
  {
   "cell_type": "code",
   "execution_count": 3,
   "metadata": {},
   "outputs": [],
   "source": [
    "def cross_validation(In_Std_x,In_Std_y):\n",
    "    all_RMSE=[]\n",
    "    outer_Layer=[]\n",
    "    for x in range(len(In_Std_x)):\n",
    "        theta=[]\n",
    "        \n",
    "        for i in range(11):\n",
    "            theta.append(random.rand())\n",
    "        theta=np.array(theta).reshape(11,1)    \n",
    "        train_x= np.delete(In_Std_x, x, 0)\n",
    "        train_y= np.delete(In_Std_y, x, 0)\n",
    "        test_x=In_Std_x[x,:]\n",
    "        test_y=In_Std_y[x,:]\n",
    "        RMSE,outer=fully_connected_layer(train_x,train_y,test_x,test_y,theta) \n",
    "        all_RMSE.append(RMSE)\n",
    "        outer_Layer.append(outer)\n",
    "    return all_RMSE,outer_Layer   "
   ]
  },
  {
   "cell_type": "code",
   "execution_count": 4,
   "metadata": {},
   "outputs": [
    {
     "name": "stderr",
     "output_type": "stream",
     "text": [
      "/Users/harshpathak/anaconda3/lib/python3.7/site-packages/ipykernel_launcher.py:22: RuntimeWarning: divide by zero encountered in double_scalars\n"
     ]
    },
    {
     "name": "stdout",
     "output_type": "stream",
     "text": [
      "RMSE = 4202.090209147748\n"
     ]
    }
   ],
   "source": [
    "from numpy import random\n",
    "\n",
    "import pandas as pd\n",
    "import numpy as np\n",
    "data=pd.read_csv('insurance.csv')\n",
    "df=pd.DataFrame(data)\n",
    "df.head()\n",
    "df=pd.get_dummies(df,columns=[\"sex\",\"region\",\"smoker\"])\n",
    "df=df[['age','bmi','children','sex_female','sex_male','region_northeast','region_northwest','region_southeast','smoker_no','smoker_yes','charges']]\n",
    "\n",
    "In_Std_x,In_Std_y=inputLayer(df)\n",
    "all_RMSE, outer_Layer=cross_validation(In_Std_x,In_Std_y)\n",
    "print(\"RMSE =\",sum(all_RMSE)/len(all_RMSE))"
   ]
  }
 ],
 "metadata": {
  "kernelspec": {
   "display_name": "Python 3",
   "language": "python",
   "name": "python3"
  },
  "language_info": {
   "codemirror_mode": {
    "name": "ipython",
    "version": 3
   },
   "file_extension": ".py",
   "mimetype": "text/x-python",
   "name": "python",
   "nbconvert_exporter": "python",
   "pygments_lexer": "ipython3",
   "version": "3.7.1"
  }
 },
 "nbformat": 4,
 "nbformat_minor": 4
}
